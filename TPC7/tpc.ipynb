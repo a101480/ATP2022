{
 "cells": [
  {
   "cell_type": "code",
   "execution_count": null,
   "metadata": {},
   "outputs": [],
   "source": [
    "import tpc\n",
    "\n",
    "\n",
    "lista= tpc.lerficheiro()\n",
    "\n",
    "tpc.menu()\n",
    "\n",
    "esc=int(input(\"Escolha uma função: \"))\n",
    "while esc!=0:\n",
    "    if esc==1:\n",
    "        valores=tpc.distribCurso(lista)\n",
    "        nomes=list(valores.keys())\n",
    "        numeros=list(valores.values())\n",
    "        for i in range(len(nomes)):\n",
    "            print(nomes[i], \" --» \", numeros[i])\n",
    "        print(\"\")\n",
    "\n",
    "    if esc==2:\n",
    "        print(\"Médias calculadas e acrescentadas\\n\")\n",
    "        tpc.tabelaMedia(lista)\n",
    "        print(\"\")\n",
    "\n",
    "    if esc==3:\n",
    "        print(\"Escalões atribuidos\\n\")\n",
    "        tpc.tabelaEscalao(lista)\n",
    "        print(\"\")\n",
    "\n",
    "    if esc==4:\n",
    "        tpc.submenuGraph()\n",
    "        opc=int(input(\"Escolha uma opção: \"))\n",
    "        while opc != 0:\n",
    "\n",
    "            if opc==1:\n",
    "                tpc.grafico(tpc.distribCurso(lista))\n",
    "        \n",
    "            if opc==2:\n",
    "                tpc.grafico(tpc.distribEscalao(lista))\n",
    "\n",
    "            if opc == 3:\n",
    "                tpc.submenuGraph()\n",
    "\n",
    "            opc=int(input(\"Escolha uma nova opção: \"))\n",
    "\n",
    "    if esc==5:\n",
    "        tpc.submenuTabela()\n",
    "        opc=int(input(\"Escolha uma opção: \"))\n",
    "\n",
    "        while opc != 0:\n",
    "            if opc==1:\n",
    "                tpc.tabelaCurso(lista)\n",
    "                print(\"\")\n",
    "\n",
    "            if opc==2:\n",
    "                tpc.tabelaEscalao(lista)\n",
    "                print(\"\")\n",
    "        \n",
    "            if opc == 3:\n",
    "                tpc.submenuTabela()\n",
    "            opc=int(input(\"Escolha uma nova opção: \"))\n",
    "\n",
    "    if esc==6:\n",
    "        tpc.menu()\n",
    "\n",
    "    print(\"====================\")\n",
    "    esc=int(input(\"Escolha uma função: \"))\n",
    "\n",
    "print(\"Programa terminado\")"
   ]
  }
 ],
 "metadata": {
  "kernelspec": {
   "display_name": "Python 3.10.7 64-bit",
   "language": "python",
   "name": "python3"
  },
  "language_info": {
   "codemirror_mode": {
    "name": "ipython",
    "version": 3
   },
   "file_extension": ".py",
   "mimetype": "text/x-python",
   "name": "python",
   "nbconvert_exporter": "python",
   "pygments_lexer": "ipython3",
   "version": "3.10.7"
  },
  "orig_nbformat": 4,
  "vscode": {
   "interpreter": {
    "hash": "8ce3e53c1e47d4d464a00079ac6c09c5fdd5ee201550de5d27c218aa2428b92a"
   }
  }
 },
 "nbformat": 4,
 "nbformat_minor": 2
}
